{
 "cells": [
  {
   "cell_type": "code",
   "execution_count": 109,
   "id": "03438d78-0161-4ede-b879-72851521dcb8",
   "metadata": {},
   "outputs": [
    {
     "data": {
      "text/plain": [
       "4"
      ]
     },
     "execution_count": 109,
     "metadata": {},
     "output_type": "execute_result"
    }
   ],
   "source": [
    "# Kaden's algorithm\n",
    "def subarray(arr):\n",
    "    curr_sum=arr[0]\n",
    "    max_end=arr[0]\n",
    "    n=len(arr)\n",
    "    for i in range(1,len(arr)):\n",
    "        curr_sum = max(arr[i],curr_sum+arr[i])\n",
    "        max_end=max(max_end,curr_sum)\n",
    "    return max_end\n",
    "arr=[1,-2,-3,4,-6,-5]\n",
    "subarray(arr)"
   ]
  },
  {
   "cell_type": "code",
   "execution_count": 113,
   "id": "4deaa11e-bc6e-453e-90f6-6947ecec1c29",
   "metadata": {},
   "outputs": [
    {
     "data": {
      "text/plain": [
       "5"
      ]
     },
     "execution_count": 113,
     "metadata": {},
     "output_type": "execute_result"
    }
   ],
   "source": [
    "# 1) Largest Element in an array\n",
    "def largest(arr):\n",
    "    max=arr[0]\n",
    "    for i in range(len(arr)):\n",
    "        if arr[i] > max:\n",
    "            max=arr[i]\n",
    "    return max\n",
    "arr=[1,2,3,4,5]\n",
    "largest(arr)"
   ]
  },
  {
   "cell_type": "code",
   "execution_count": 125,
   "id": "ed832fbd-87cb-41b5-8a43-73c53fc3edd5",
   "metadata": {},
   "outputs": [
    {
     "data": {
      "text/plain": [
       "True"
      ]
     },
     "execution_count": 125,
     "metadata": {},
     "output_type": "execute_result"
    }
   ],
   "source": [
    "# 2) Check if an Array is Sorted\n",
    "def sort_array(arr):\n",
    "    for i in range(len(arr)-1):\n",
    "        if arr[i]>arr[i+1]:\n",
    "            return False\n",
    "    return True\n",
    "arr=[1,2,3,4,5]\n",
    "sort_array(arr)"
   ]
  },
  {
   "cell_type": "code",
   "execution_count": 139,
   "id": "36f94502-71f7-4127-8535-8398833b2b40",
   "metadata": {},
   "outputs": [
    {
     "data": {
      "text/plain": [
       "(2, 6)"
      ]
     },
     "execution_count": 139,
     "metadata": {},
     "output_type": "execute_result"
    }
   ],
   "source": [
    "#3) Find Second Smallest and Second Largest Element in an array\n",
    "def second_array(arr):\n",
    "    sort_arr=sorted(arr)\n",
    "    return sort_arr[1],sort_arr[-2]\n",
    "arr=[6,8,1,2,3,4,5]\n",
    "second_array(arr)"
   ]
  },
  {
   "cell_type": "code",
   "execution_count": 145,
   "id": "7acf3c02-5bd2-4116-8992-3aa687de09bd",
   "metadata": {},
   "outputs": [
    {
     "name": "stdout",
     "output_type": "stream",
     "text": [
      "(2, 6)\n"
     ]
    }
   ],
   "source": [
    "def array_second(arr):\n",
    "    first=second=arr[0]\n",
    "    largest=second_largest=arr[0]\n",
    "    for i in arr:\n",
    "        if i < first:\n",
    "            second,first=first,i\n",
    "        elif first<i<second:\n",
    "            second=i\n",
    "        if i > largest:\n",
    "            second_largest,largest=largest,i\n",
    "        elif largest <i<second_largest:\n",
    "            second_largest=i\n",
    "    return second,second_largest\n",
    "arr = [6, 8, 1, 2, 3, 4, 5]\n",
    "print(second_array(arr)) "
   ]
  },
  {
   "cell_type": "code",
   "execution_count": 149,
   "id": "84ba5513-de70-4202-9526-0e8c1503b930",
   "metadata": {},
   "outputs": [
    {
     "data": {
      "text/plain": [
       "'the key is found in 2 index'"
      ]
     },
     "execution_count": 149,
     "metadata": {},
     "output_type": "execute_result"
    }
   ],
   "source": [
    "# Linear Search\n",
    "def linear_search(arr,key):\n",
    "    for i in range(len(arr)):\n",
    "        if arr[i] == key:\n",
    "            return f'the key is found in {i} index'\n",
    "    return False\n",
    "arr=[1,2,3,4,5]\n",
    "linear_search(arr,3)"
   ]
  },
  {
   "cell_type": "code",
   "execution_count": 155,
   "id": "b4a4b8ab-2792-4725-abb4-c2e4dacebe07",
   "metadata": {},
   "outputs": [
    {
     "name": "stdout",
     "output_type": "stream",
     "text": [
      "2 3 4 5 1 "
     ]
    }
   ],
   "source": [
    "# Rotation of an array\n",
    "def rotate(arr):\n",
    "    temp=arr[0]\n",
    "    for i in range(n-1):\n",
    "        arr[i]=arr[i+1]\n",
    "    arr[n-1]=temp\n",
    "    for i in range(n):\n",
    "        print(arr[i],end=\" \")\n",
    "        \n",
    "n = 5\n",
    "arr = [1,2,3,4,5,6]\n",
    "rotate(arr) "
   ]
  },
  {
   "cell_type": "code",
   "execution_count": 175,
   "id": "6eaaa6af-8664-411b-bd0a-1c626648818b",
   "metadata": {},
   "outputs": [
    {
     "name": "stdout",
     "output_type": "stream",
     "text": [
      "[4, 5, 6, 1, 2, 3]\n"
     ]
    },
    {
     "data": {
      "text/plain": [
       "[5, 6, 1, 2, 3, 4]"
      ]
     },
     "execution_count": 175,
     "metadata": {},
     "output_type": "execute_result"
    }
   ],
   "source": [
    "# Left rotate and right rotate of an array\n",
    "def left_rotation(arr,k):\n",
    "    return arr[k:]+arr[:k]\n",
    "def right_rotation(arr,k):\n",
    "    return arr[-k:]+arr[:-k]\n",
    "arr = [1,2,3,4,5,6]\n",
    "print(left_rotation(arr,3)) \n",
    "right_rotation(arr,2)"
   ]
  },
  {
   "cell_type": "code",
   "execution_count": 179,
   "id": "4b622319-5d80-4fff-b6ed-f29ded83c96e",
   "metadata": {},
   "outputs": [
    {
     "name": "stdout",
     "output_type": "stream",
     "text": [
      "[3, 4, 5, 1, 2]\n"
     ]
    }
   ],
   "source": [
    "# another method\n",
    "def reverse(arr,start,end):\n",
    "    while start < end:\n",
    "        arr[start],arr[end]=arr[end],arr[start]\n",
    "        start+=1\n",
    "        end-=1\n",
    "def left_rotate(arr,k):\n",
    "    n=len(arr)\n",
    "    k=k%n\n",
    "    reverse(arr,0,k-1)\n",
    "    reverse(arr,k,n-1)\n",
    "    reverse(arr,0,n-1)\n",
    "    return arr\n",
    "arr = [1, 2, 3, 4, 5]\n",
    "print(left_rotate(arr, 2))"
   ]
  },
  {
   "cell_type": "markdown",
   "id": "4aee17ca-1034-4bb9-a124-362b8097146c",
   "metadata": {},
   "source": [
    "# 2D ARRAY "
   ]
  },
  {
   "cell_type": "code",
   "execution_count": 20,
   "id": "5ed121db-0364-4a9a-9d00-c96a7d5ff2e9",
   "metadata": {},
   "outputs": [
    {
     "name": "stdout",
     "output_type": "stream",
     "text": [
      "1 2 3 \n",
      "4 5 6 \n",
      "7 8 9 \n",
      "The column traversal of an array\n",
      "1 4 7 \n",
      "2 5 8 \n",
      "3 6 9 \n"
     ]
    }
   ],
   "source": [
    "# Row traversal and the column traversal \n",
    "def rowtraverse_array(arr):\n",
    "    for i in range(len(arr)):\n",
    "        for j in range(len(arr[0])):\n",
    "            print(arr[i][j],end=\" \")\n",
    "        print()\n",
    "        \n",
    "def columntraverse(arr):\n",
    "    for j in range(len(arr[0])):\n",
    "        for i in range(len(arr)):\n",
    "            print(arr[i][j],end=\" \")\n",
    "        print()\n",
    "arr=[[1,2,3],[4,5,6],[7,8,9]]\n",
    "rowtraverse_array(arr)\n",
    "print(\"The column traversal of an array\")\n",
    "columntraverse(arr)"
   ]
  },
  {
   "cell_type": "code",
   "execution_count": 30,
   "id": "5afa8b4c-c304-490c-bfa6-0be7adf41e33",
   "metadata": {},
   "outputs": [
    {
     "name": "stdout",
     "output_type": "stream",
     "text": [
      "1 4 7 \n",
      "2 5 8 \n",
      "3 6 9 \n"
     ]
    }
   ],
   "source": [
    "#Transpose of a matrix\n",
    "def transpose(arr):\n",
    "    for i in range(len(arr)):\n",
    "        for j in range(len(arr[0])):\n",
    "            print(arr[j][i],end=\" \")\n",
    "        print()\n",
    "arr=[[1,2,3],[4,5,6],[7,8,9]]\n",
    "transpose(arr)"
   ]
  },
  {
   "cell_type": "code",
   "execution_count": 62,
   "id": "a9ee910e-9442-4fe3-b574-2f539335fd44",
   "metadata": {},
   "outputs": [
    {
     "name": "stdout",
     "output_type": "stream",
     "text": [
      "[1, 2, 3, 4, 5, 6, 7, 8, 9]\n"
     ]
    }
   ],
   "source": [
    "#Flatten of an Matrix \n",
    "def flatten(arr):\n",
    "    flatten=[]\n",
    "    for i in range(len(arr)):\n",
    "        for j in range(len(arr)):\n",
    "            flatten.append(arr[i][j])\n",
    "    print(flatten)\n",
    "arr=[[1,2,3],[4,5,6],[7,8,9]]\n",
    "flatten(arr)"
   ]
  },
  {
   "cell_type": "code",
   "execution_count": 70,
   "id": "a2746e02-b525-4a53-a49f-752db656a170",
   "metadata": {},
   "outputs": [
    {
     "data": {
      "text/plain": [
       "True"
      ]
     },
     "execution_count": 70,
     "metadata": {},
     "output_type": "execute_result"
    }
   ],
   "source": [
    "# 5. Search an element in a sorted 2D matrix\n",
    "def search(arr,target):\n",
    "    for i in range(len(arr)):\n",
    "        for j in range(len(arr[0])):\n",
    "            if  arr[i][j] == target:\n",
    "                return True\n",
    "    return False\n",
    "arr=[[1,2,3],[4,5,6],[7,8,9]]\n",
    "search(arr,3)"
   ]
  },
  {
   "cell_type": "code",
   "execution_count": 80,
   "id": "3b2c9054-5cef-4579-9dcf-0fb5975ec0ee",
   "metadata": {},
   "outputs": [
    {
     "data": {
      "text/plain": [
       "True"
      ]
     },
     "execution_count": 80,
     "metadata": {},
     "output_type": "execute_result"
    }
   ],
   "source": [
    "# Optimized Way\n",
    "def search_array(arr,target):\n",
    "    row=len(arr)\n",
    "    col=len(arr[0])\n",
    "    i,j=0,col-1\n",
    "    while i < row and j > 0:\n",
    "        if arr[i][j] == target:\n",
    "            return True\n",
    "        elif arr[i][j] > target:\n",
    "            j-=1\n",
    "        else:\n",
    "            i+=1\n",
    "    return False\n",
    "def search(arr,target):\n",
    "    for i in range(len(arr)):\n",
    "        for j in range(len(arr[0])):\n",
    "            if  arr[i][j] == target:\n",
    "                return True\n",
    "    return False\n",
    "arr=[[1,2,3],[4,5,6],[7,8,9]]\n",
    "search_array(arr,3)    "
   ]
  },
  {
   "cell_type": "code",
   "execution_count": 115,
   "id": "49640966-56e1-457e-a880-00a0d0324fa0",
   "metadata": {},
   "outputs": [
    {
     "name": "stdout",
     "output_type": "stream",
     "text": [
      "[[7, 4, 1], [8, 5, 2], [9, 6, 3]]\n"
     ]
    }
   ],
   "source": [
    "# Rotate 90 degrees \n",
    "def rotate90(arr):\n",
    "    rotate_arr=[]\n",
    "    n=len(arr)\n",
    "    for i in range(n):\n",
    "        rotate=[]\n",
    "        for j in range(n-1,-1,-1):\n",
    "            rotate.append(arr[j][i])\n",
    "        rotate_arr.append(rotate)\n",
    "    print(rotate_arr)\n",
    "arr=[[1,2,3],[4,5,6],[7,8,9]]\n",
    "rotate90(arr) "
   ]
  },
  {
   "cell_type": "code",
   "execution_count": 129,
   "id": "ad1ecc42-a97d-46a0-8ef2-628afe3c4011",
   "metadata": {},
   "outputs": [
    {
     "data": {
      "text/plain": [
       "[1, 2, 3, 6, 9, 8, 5]"
      ]
     },
     "execution_count": 129,
     "metadata": {},
     "output_type": "execute_result"
    }
   ],
   "source": [
    "# Sparse rotation of the matrix\n",
    "def sparse(arr):\n",
    "    res=[]\n",
    "    top,left=0,0\n",
    "    right,bottom=len(arr)-1,len(arr)-1\n",
    "    while top <=bottom and left <= right:\n",
    "        for i in range(left,right+1):\n",
    "            res.append(arr[top][i])\n",
    "        top+=1\n",
    "        for i in range(top,bottom+1):\n",
    "            res.append(arr[i][right])\n",
    "        right-=1\n",
    "        if top <= bottom:\n",
    "            for i in range(right,left,-1):\n",
    "                res.append(arr[bottom][i])\n",
    "            bottom-=1\n",
    "        if left <=right:\n",
    "            for i in range(bottom,top,-1):\n",
    "                res.append(arr[i][left])\n",
    "            left+=1\n",
    "    return res\n",
    "arr=[[1,2,3],[4,5,6],[7,8,9]]\n",
    "sparse(arr)     "
   ]
  },
  {
   "cell_type": "code",
   "execution_count": 52,
   "id": "564d4fe9-c0b2-4e17-8c40-ad02368b07a1",
   "metadata": {},
   "outputs": [
    {
     "name": "stdout",
     "output_type": "stream",
     "text": [
      "[[30, 24, 18], [84, 69, 54], [138, 114, 90]]\n"
     ]
    }
   ],
   "source": [
    "# Matrix Multiplication\n",
    "a = [[1, 2, 3],\n",
    "     [4, 5, 6],\n",
    "     [7, 8, 9]]\n",
    "\n",
    "b = [[9, 8, 7],\n",
    "     [6, 5, 4],\n",
    "     [3, 2, 1]]\n",
    "\n",
    "# Initialize result matrix with zeros\n",
    "c = [[0 for _ in range(len(b[0]))] for _ in range(len(a))]\n",
    "\n",
    "# Matrix multiplication\n",
    "for i in range(len(a)):             # rows of a\n",
    "    for j in range(len(b[0])):      # columns of b\n",
    "        for k in range(len(b)):     # common dimension\n",
    "            c[i][j] += a[i][k] * b[k][j]\n",
    "print(c)\n",
    "            \n",
    "        "
   ]
  },
  {
   "cell_type": "code",
   "execution_count": 149,
   "id": "1893f180-6c60-4567-86cf-3b54bea31352",
   "metadata": {},
   "outputs": [
    {
     "data": {
      "text/plain": [
       "5"
      ]
     },
     "execution_count": 149,
     "metadata": {},
     "output_type": "execute_result"
    }
   ],
   "source": [
    "def removeElement(num, val):\n",
    "        k=0\n",
    "        for i in range(len(num)):\n",
    "            if num[i]!=val:\n",
    "                num[k]=num[i]\n",
    "                k+=1\n",
    "        return k\n",
    "num=[1,2,3,4,5,6]\n",
    "val=3\n",
    "removeElement(num,val)   "
   ]
  },
  {
   "cell_type": "code",
   "execution_count": 7,
   "id": "8deba25b-4419-46ba-ac7e-3812edc8ede1",
   "metadata": {},
   "outputs": [
    {
     "data": {
      "text/plain": [
       "19"
      ]
     },
     "execution_count": 7,
     "metadata": {},
     "output_type": "execute_result"
    }
   ],
   "source": [
    "def trap(height):\n",
    "    n=len(height)\n",
    "    left_max=[0]*n\n",
    "    right_max=[0]*n\n",
    "    left_max[0]=height[0]\n",
    "    for i in range(1,n):\n",
    "        left_max[i]=max(left_max[i-1],height[i])\n",
    "    right_max[n-1]= height[n-1]\n",
    "    for i in range(n-2,-1,-1):\n",
    "        right_max[i]=max(right_max[i+1],height[i])\n",
    "\n",
    "    water=0\n",
    "    for i in range(n):\n",
    "        water+=min(left_max[i],right_max[i])-height[i]\n",
    "    return water\n",
    "arr=[1,8,6,2,5,4,8,3,7]\n",
    "trap(arr) "
   ]
  },
  {
   "cell_type": "code",
   "execution_count": 9,
   "id": "66082566-489d-4573-be22-81646ab56e4f",
   "metadata": {},
   "outputs": [
    {
     "data": {
      "text/plain": [
       "6"
      ]
     },
     "execution_count": 9,
     "metadata": {},
     "output_type": "execute_result"
    }
   ],
   "source": [
    "def trapped(arr):\n",
    "    low,high=0,len(arr)-1\n",
    "    left_maxi,right_maxi=0,0\n",
    "    water=0\n",
    "    while low < high:\n",
    "        if arr[low] < arr[high]:\n",
    "            if arr[low] >= low_maxi:\n",
    "                low_maxi=arr[low]\n",
    "            else:\n",
    "                water+=low_maxi-arr[low]\n",
    "            left+=1\n",
    "        else:\n",
    "            if arr[high]>=right_maxi:\n",
    "                right_maxi=arr[high]\n",
    "            else:\n",
    "                water+=right_maxi-arr[right]\n",
    "            right-=1\n",
    "    return water\n",
    "arr=[0,1,0,2,1,0,1,3,2,1,2,1]\n",
    "trap(arr)"
   ]
  },
  {
   "cell_type": "code",
   "execution_count": 37,
   "id": "5f6c158d-965a-4026-8880-6f6af02c7833",
   "metadata": {},
   "outputs": [
    {
     "data": {
      "text/plain": [
       "[0, 1]"
      ]
     },
     "execution_count": 37,
     "metadata": {},
     "output_type": "execute_result"
    }
   ],
   "source": [
    "# Two Sum : Check if a pair with given sum exists in Array\n",
    "def sumarray(arr,target):\n",
    "    lst=[]\n",
    "    for i in range(len(arr)):\n",
    "        for j in range(len(arr)):\n",
    "            if (arr[i]+arr[j] == target):\n",
    "                lst.append(i)\n",
    "                lst.append(j)\n",
    "                return lst\n",
    "    return False\n",
    "arr=[1,2,3,4,5,6]\n",
    "sumarray(arr,3)"
   ]
  },
  {
   "cell_type": "code",
   "execution_count": 53,
   "id": "dfc29905-d122-4a4b-bbeb-a68327a7993e",
   "metadata": {},
   "outputs": [
    {
     "data": {
      "text/plain": [
       "[0, 0, 1, 1, 2, 2]"
      ]
     },
     "execution_count": 53,
     "metadata": {},
     "output_type": "execute_result"
    }
   ],
   "source": [
    "# Sort an array of 0s, 1s and 2s\n",
    "def quicksort(arr):\n",
    "    if len(arr)<=1:\n",
    "        return arr\n",
    "    pivot=arr[len(arr)//2]\n",
    "    left=[x for x in arr if x < pivot]\n",
    "    middle=[x for x in arr if x==pivot]\n",
    "    right=[x for x in arr if x > pivot]\n",
    "    return quicksort(left)+middle+quicksort(right)    \n",
    "arr=[1,1,0,0,2,2]\n",
    "quicksort(arr)"
   ]
  },
  {
   "cell_type": "code",
   "execution_count": 82,
   "id": "c53803f2-65d2-4af1-bb85-969d7124ed4a",
   "metadata": {},
   "outputs": [
    {
     "data": {
      "text/plain": [
       "4"
      ]
     },
     "execution_count": 82,
     "metadata": {},
     "output_type": "execute_result"
    }
   ],
   "source": [
    "# Find the Majority Element that occurs more than N/2 times\n",
    "def countoccur(arr):\n",
    "    num={}\n",
    "    for i in arr:\n",
    "        if i in num:\n",
    "            num[i]+=1\n",
    "        else:\n",
    "            num[i]=1\n",
    "    for i,cou in num.items():\n",
    "        if cou > len(arr)//2:\n",
    "            return i\n",
    "arr=[4,4,2,4,3,4,4,3,2,4]\n",
    "countoccur(arr)"
   ]
  },
  {
   "cell_type": "code",
   "execution_count": 87,
   "id": "7a5a8c77-3f8f-4f4a-893d-8e820c916df4",
   "metadata": {},
   "outputs": [
    {
     "data": {
      "text/plain": [
       "6"
      ]
     },
     "execution_count": 87,
     "metadata": {},
     "output_type": "execute_result"
    }
   ],
   "source": [
    "# Kadane's Algorithm : Maximum Subarray Sum in an Array\n",
    "def kadane(arr):\n",
    "    curr_max=0\n",
    "    arr_max=0\n",
    "    for i in range(len(arr)):\n",
    "        curr_max=max(arr[i],curr_max+arr[i])\n",
    "        arr_max=max(arr_max,curr_max)\n",
    "    return arr_max\n",
    "arr = [-2,1,-3,4,-1,2,1,-5,4] \n",
    "kadane(arr)"
   ]
  },
  {
   "cell_type": "code",
   "execution_count": 143,
   "id": "d914bedf-01b2-4b00-8cda-eff1615ff22a",
   "metadata": {},
   "outputs": [
    {
     "data": {
      "text/plain": [
       "5"
      ]
     },
     "execution_count": 143,
     "metadata": {},
     "output_type": "execute_result"
    }
   ],
   "source": [
    "# Stock Buy And Sell\n",
    "def profit(arr):\n",
    "    diff=0\n",
    "    for i in range(len(arr)):\n",
    "        for j in range(i+1,len(arr)):\n",
    "            diff=max(arr[j]-arr[i],diff)\n",
    "    return diff\n",
    "arr=[7,1,5,3,6,4]\n",
    "profit(arr) "
   ]
  },
  {
   "cell_type": "code",
   "execution_count": 197,
   "id": "c0fa7791-f3f8-4980-8595-e90f8a2dd32d",
   "metadata": {},
   "outputs": [
    {
     "name": "stdout",
     "output_type": "stream",
     "text": [
      "4\n"
     ]
    }
   ],
   "source": [
    "# Longest Consecutive Sequence in an Array\n",
    "# Example 1:\n",
    "# Input: [100, 200, 1, 3, 2, 4]\n",
    "# Output: 4\n",
    "# Explanation: The longest consecutive subsequence is 1, 2, 3, and 4.\n",
    "# Input: [3, 8, 5, 7, 6]\n",
    "# Output: 4\n",
    "# Explanation: The longest consecutive subsequence is 5, 6, 7, and 8.\n",
    "arr=[100, 200, 1, 3, 2, 4]\n",
    "arr.sort()\n",
    "long=1\n",
    "curr=1\n",
    "for i in range(1,len(arr)):\n",
    "    if arr[i]==arr[i-1]+1:\n",
    "        curr+=1\n",
    "        long=max(long,curr)\n",
    "    else:\n",
    "        curr=1\n",
    "print(long)"
   ]
  },
  {
   "cell_type": "code",
   "execution_count": 199,
   "id": "08d63e1d-789c-49fa-9192-5166e3f4cffc",
   "metadata": {},
   "outputs": [
    {
     "name": "stdout",
     "output_type": "stream",
     "text": [
      "The Final matrix is:\n",
      "1 0 1 \n",
      "0 0 0 \n",
      "1 0 1 \n"
     ]
    }
   ],
   "source": [
    "def markRow(matrix, n, m, i):\n",
    "    # set all non-zero elements as -1 in the row i:\n",
    "    for j in range(m):\n",
    "        if matrix[i][j] != 0:\n",
    "            matrix[i][j] = -1\n",
    "\n",
    "def markCol(matrix, n, m, j):\n",
    "    # set all non-zero elements as -1 in the col j:\n",
    "    for i in range(n):\n",
    "        if matrix[i][j] != 0:\n",
    "            matrix[i][j] = -1\n",
    "\n",
    "def zeroMatrix(matrix, n, m):\n",
    "    # Set -1 for rows and cols\n",
    "    # that contains 0. Don't mark any 0 as -1:\n",
    "    for i in range(n):\n",
    "        for j in range(m):\n",
    "            if matrix[i][j] == 0:\n",
    "                markRow(matrix, n, m, i)\n",
    "                markCol(matrix, n, m, j)\n",
    "    \n",
    "    # Finally, mark all -1 as 0:\n",
    "    for i in range(n):\n",
    "        for j in range(m):\n",
    "            if matrix[i][j] == -1:\n",
    "                matrix[i][j] = 0\n",
    "    \n",
    "    return matrix\n",
    "\n",
    "\n",
    "if __name__ == \"__main__\":\n",
    "\tmatrix = [[1, 1, 1], [1, 0, 1], [1, 1, 1]]\n",
    "\tn = len(matrix)\n",
    "\tm = len(matrix[0])\n",
    "\tans = zeroMatrix(matrix, n, m)\n",
    "\n",
    "\tprint(\"The Final matrix is:\")\n",
    "\tfor row in ans:\n",
    "\t    for ele in row:\n",
    "\t        print(ele, end=\" \")\n",
    "\t    print()"
   ]
  },
  {
   "cell_type": "code",
   "execution_count": 225,
   "id": "f00d008b-b655-49ae-9fb6-69a999c63cc3",
   "metadata": {},
   "outputs": [
    {
     "name": "stdout",
     "output_type": "stream",
     "text": [
      "[[7, 4, 1], [8, 5, 2], [9, 6, 3]]\n"
     ]
    }
   ],
   "source": [
    "matrix=[[1,2,3],[4,5,6],[7,8,9]]\n",
    "n=len(matrix)\n",
    "rotate = [[0 for _ in range(n)] for _ in range(n)]\n",
    "for i in range(n):\n",
    "    for j in range(n-1,-1,-1):\n",
    "        rotate[i][j]=matrix[j][i]\n",
    "for i in rotate:\n",
    "    i.reverse()\n",
    "print(rotate)"
   ]
  },
  {
   "cell_type": "code",
   "execution_count": 9,
   "id": "6b9d0d15-a068-4fda-971c-b662a276e9a4",
   "metadata": {},
   "outputs": [
    {
     "data": {
      "text/plain": [
       "[2, 3, 4, 5, 1]"
      ]
     },
     "execution_count": 9,
     "metadata": {},
     "output_type": "execute_result"
    }
   ],
   "source": [
    "# Single Rotation of an array\n",
    "def rotate(arr):\n",
    "    n=len(arr)\n",
    "    temp=arr[0]\n",
    "    for i in range(1,n):\n",
    "        arr[i-1]=arr[i]\n",
    "    arr[n-1]=temp\n",
    "    return arr\n",
    "arr=[1,2,3,4,5]\n",
    "rotate(arr)"
   ]
  },
  {
   "cell_type": "code",
   "execution_count": 33,
   "id": "034ec185-ffc2-41ac-a1ef-a7f920d55653",
   "metadata": {},
   "outputs": [
    {
     "name": "stdout",
     "output_type": "stream",
     "text": [
      "[4, 5, 1, 2, 3]\n"
     ]
    }
   ],
   "source": [
    "# Rotate of an array\n",
    "def rotates(arr,start,end):\n",
    "    while start < end:\n",
    "        arr[start],arr[end]=arr[end],arr[start]\n",
    "        start+=1\n",
    "        end-=1\n",
    "def leftrotate(arr,k):\n",
    "    n=len(arr)\n",
    "    k=n%k\n",
    "    rotates(arr,0,k)\n",
    "    rotates(arr,k+1,n-1)\n",
    "    rotates(arr,0,n-1)\n",
    "    return arr\n",
    "arr=[1,2,3,4,5]\n",
    "print(leftrotate(arr,3))"
   ]
  },
  {
   "cell_type": "code",
   "execution_count": 39,
   "id": "cecdc7c5-7b1b-41c5-8e05-caf19c2cc7ca",
   "metadata": {},
   "outputs": [
    {
     "data": {
      "text/plain": [
       "[1, 2, 3, 4, 5, 0, 0, 0, 0]"
      ]
     },
     "execution_count": 39,
     "metadata": {},
     "output_type": "execute_result"
    }
   ],
   "source": [
    "# Moving the Zeros into last index\n",
    "def zeros(arr):\n",
    "    for i in range(len(arr)):\n",
    "        for j in range(i+1,len(arr)):\n",
    "            if arr[i]==0:\n",
    "                arr[i],arr[j]=arr[j],arr[i]\n",
    "    return arr\n",
    "arr=[1,0,0,2,0,3,0,4,5]\n",
    "zeros(arr)"
   ]
  },
  {
   "cell_type": "code",
   "execution_count": 47,
   "id": "299e5e51-1d6f-48ab-a8be-616451b00a1a",
   "metadata": {},
   "outputs": [
    {
     "data": {
      "text/plain": [
       "{1, 2, 3, 4, 5, 6, 7}"
      ]
     },
     "execution_count": 47,
     "metadata": {},
     "output_type": "execute_result"
    }
   ],
   "source": [
    "# Finding the union\n",
    "def union(arr1,arr2):\n",
    "    return set(arr1+arr2)\n",
    "arr1=[1,2,3,4,5]\n",
    "arr2=[3,4,5,6,7]\n",
    "union(arr1,arr2)"
   ]
  }
 ],
 "metadata": {
  "kernelspec": {
   "display_name": "Python 3 (ipykernel)",
   "language": "python",
   "name": "python3"
  },
  "language_info": {
   "codemirror_mode": {
    "name": "ipython",
    "version": 3
   },
   "file_extension": ".py",
   "mimetype": "text/x-python",
   "name": "python",
   "nbconvert_exporter": "python",
   "pygments_lexer": "ipython3",
   "version": "3.12.4"
  }
 },
 "nbformat": 4,
 "nbformat_minor": 5
}
