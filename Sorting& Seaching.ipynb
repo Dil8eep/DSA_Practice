{
 "cells": [
  {
   "cell_type": "markdown",
   "id": "9db39cf0-df52-4214-a334-517ce127c767",
   "metadata": {},
   "source": [
    "# Searching "
   ]
  },
  {
   "cell_type": "code",
   "execution_count": 25,
   "id": "f4297071-4d07-4ac8-b717-4fb14953c0d3",
   "metadata": {},
   "outputs": [],
   "source": [
    "#Time complexity -> O(n)\n",
    "def linear_search(arr,target):\n",
    "    for i in range(len(arr)):\n",
    "        if  arr[i] == target:\n",
    "            return ( f\"The element found in the {i} index\")\n",
    "arr=[3,4,8,9,7]\n",
    "target=0\n",
    "linear_search(arr,target)"
   ]
  },
  {
   "cell_type": "code",
   "execution_count": 27,
   "id": "eb56563c-f8e4-4043-8564-2d00aa839c17",
   "metadata": {},
   "outputs": [
    {
     "data": {
      "text/plain": [
       "2"
      ]
     },
     "execution_count": 27,
     "metadata": {},
     "output_type": "execute_result"
    }
   ],
   "source": [
    "#Time Complexity O(logn)\n",
    "def binary_search(arr,target):\n",
    "    low=0\n",
    "    high=len(arr)-1\n",
    "    while(low<=high):\n",
    "        mid=(low+high)//2\n",
    "        if(arr[mid]==target):\n",
    "            return  mid\n",
    "        elif (arr[mid] < target):\n",
    "            left=mid+1\n",
    "        else:\n",
    "            high=mid-1\n",
    "\n",
    "arr=[1,2,3,4,5,6]\n",
    "target=3\n",
    "binary_search(arr,target)"
   ]
  },
  {
   "cell_type": "markdown",
   "id": "2254f201-5ee8-48c0-aa0b-94726a7144b3",
   "metadata": {},
   "source": [
    "# Sorting"
   ]
  },
  {
   "cell_type": "code",
   "execution_count": 69,
   "id": "b776f42f-028e-4cdf-a434-a78af35bb145",
   "metadata": {},
   "outputs": [
    {
     "data": {
      "text/plain": [
       "[1, 2, 3, 4, 5, 6, 7, 8, 9]"
      ]
     },
     "execution_count": 69,
     "metadata": {},
     "output_type": "execute_result"
    }
   ],
   "source": [
    "## Bubble Sort \n",
    "def Bubble_Sort(arr):\n",
    "    n=len(arr)\n",
    "    for i in range(n-1):\n",
    "        for j in range(n-1-i):\n",
    "            if arr[j]>arr[j+1]:\n",
    "                arr[j],arr[j+1]=arr[j+1],arr[j]\n",
    "    return arr\n",
    "arr=[1,9,8,4,5,3,2,7,6]\n",
    "Bubble_Sort(arr)"
   ]
  },
  {
   "cell_type": "code",
   "execution_count": 91,
   "id": "65fdfa46-5ee2-4895-b9c2-de2f9aa395c6",
   "metadata": {},
   "outputs": [
    {
     "data": {
      "text/plain": [
       "[1, 2, 3, 4, 5, 6, 7, 8, 9]"
      ]
     },
     "execution_count": 91,
     "metadata": {},
     "output_type": "execute_result"
    }
   ],
   "source": [
    "#Selection Sort\n",
    "\n",
    "def selection(arr):\n",
    "    for i in range(len(arr)):\n",
    "        min=i\n",
    "        for j in range(i+1,len(arr)):\n",
    "            if arr[j]<arr[min]:\n",
    "                min=j\n",
    "        arr[i],arr[min]=arr[min],arr[i]\n",
    "    return arr\n",
    "arr=[1,9,8,4,5,3,2,7,6]\n",
    "selection(arr)"
   ]
  },
  {
   "cell_type": "code",
   "execution_count": 99,
   "id": "dda87088-c7ee-43cb-b313-8065d40bc366",
   "metadata": {},
   "outputs": [
    {
     "data": {
      "text/plain": [
       "[1, 2, 3, 4, 5]"
      ]
     },
     "execution_count": 99,
     "metadata": {},
     "output_type": "execute_result"
    }
   ],
   "source": [
    "#Insertion Sort \n",
    "def insertion(arr):\n",
    "    for i in range(1,len(arr)):\n",
    "        key=arr[i]\n",
    "        j=i-1\n",
    "        while(j>=0 and arr[j] > key):\n",
    "            arr[j+1]=arr[j]\n",
    "            j-=1\n",
    "        arr[j+1]=key\n",
    "    return arr\n",
    "arr=[4,3,2,5,1]\n",
    "insertion(arr)"
   ]
  },
  {
   "cell_type": "code",
   "execution_count": 105,
   "id": "9f9f10a6-80e4-4bad-aeda-64713034e0cf",
   "metadata": {},
   "outputs": [
    {
     "data": {
      "text/plain": [
       "[1, 2, 3, 4, 5, 6, 7, 8, 9]"
      ]
     },
     "execution_count": 105,
     "metadata": {},
     "output_type": "execute_result"
    }
   ],
   "source": [
    "def quicksort(arr):\n",
    "    if len(arr)<=1:\n",
    "        return arr\n",
    "    pivot=arr[len(arr)//2]\n",
    "    left=[x for x in arr if  x < pivot]\n",
    "    middle=[x for x in arr if x == pivot]\n",
    "    right=[x for x in arr if x > pivot]\n",
    "    return quicksort(left)+middle+quicksort(right)\n",
    "arr=[1,9,8,4,5,3,2,7,6]\n",
    "quicksort(arr)"
   ]
  },
  {
   "cell_type": "code",
   "execution_count": 121,
   "id": "b95e5bfe-a1ed-4c18-949d-25855407fb8d",
   "metadata": {},
   "outputs": [
    {
     "data": {
      "text/plain": [
       "[1, 2, 3, 4, 5, 6, 7, 8, 9]"
      ]
     },
     "execution_count": 121,
     "metadata": {},
     "output_type": "execute_result"
    }
   ],
   "source": [
    "#Merge Sort\n",
    "def merge(arr):\n",
    "    if len(arr)>1:\n",
    "        mid=len(arr)//2\n",
    "        L=arr[:mid]\n",
    "        R=arr[mid:]\n",
    "        merge(L)\n",
    "        merge(R)\n",
    "        i=j=k=0\n",
    "        while i<len(L) and j < len(R):\n",
    "            if L[i]<R[j]:\n",
    "                arr[k]=L[i]\n",
    "                i+=1\n",
    "            else:\n",
    "                arr[k]=R[j]\n",
    "                j+=1\n",
    "            k+=1\n",
    "        while i < len(L):\n",
    "            arr[k]=L[i]\n",
    "            i+=1\n",
    "            k+=1\n",
    "        while j <len(R):\n",
    "            arr[k]=R[j]\n",
    "            j+=1\n",
    "            k+=1\n",
    "        return arr\n",
    "arr=[1,9,8,4,5,3,2,7,6]\n",
    "merge(arr)"
   ]
  },
  {
   "cell_type": "code",
   "execution_count": null,
   "id": "2d99b217-cb77-4aec-9ce2-17b74dbba5d3",
   "metadata": {},
   "outputs": [],
   "source": []
  }
 ],
 "metadata": {
  "kernelspec": {
   "display_name": "Python 3 (ipykernel)",
   "language": "python",
   "name": "python3"
  },
  "language_info": {
   "codemirror_mode": {
    "name": "ipython",
    "version": 3
   },
   "file_extension": ".py",
   "mimetype": "text/x-python",
   "name": "python",
   "nbconvert_exporter": "python",
   "pygments_lexer": "ipython3",
   "version": "3.12.4"
  }
 },
 "nbformat": 4,
 "nbformat_minor": 5
}
