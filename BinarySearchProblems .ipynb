{
 "cells": [
  {
   "cell_type": "markdown",
   "id": "014eee97-b7f6-4428-81f4-f56b88bbe39c",
   "metadata": {},
   "source": [
    "Problem statement: You are given a sorted array of integers and a target, your task is to search for the target in the given array. Assume the given array does not contain any duplicate numbers.\r\n",
    "\r\n",
    "Let’s say the given array is = {3, 4, 6, 7, 9, 12, 16, 17} and target = 6."
   ]
  },
  {
   "cell_type": "code",
   "execution_count": 5,
   "id": "ef43ecd6-9d76-47a3-aa1e-312478f5f27c",
   "metadata": {},
   "outputs": [
    {
     "data": {
      "text/plain": [
       "2"
      ]
     },
     "execution_count": 5,
     "metadata": {},
     "output_type": "execute_result"
    }
   ],
   "source": [
    "def binarysort(arr,target):\n",
    "    left=0\n",
    "    right=len(arr)-1\n",
    "    while left <=right:\n",
    "        mid=(left+right)//2\n",
    "        if arr[mid]==target:\n",
    "            return mid\n",
    "        elif arr[mid] <= target:\n",
    "            left=mid+1\n",
    "        else:\n",
    "            right=mid-1\n",
    "arr=[1,2,3,4,5]\n",
    "target=3\n",
    "binarysort(arr,target)"
   ]
  },
  {
   "cell_type": "markdown",
   "id": "905bde87-644a-4f03-8af8-94debe6c2f2f",
   "metadata": {},
   "source": [
    "Implement Lower Bound\n",
    "\n",
    "\n",
    "\n",
    "\n",
    "\n",
    "\n",
    "\n",
    "\n",
    "\n",
    "\n",
    "\n",
    "\n",
    "\n",
    "\n",
    "\n",
    "\n",
    "\n",
    "\n",
    "\n",
    "\n",
    "\n",
    "\n",
    "Example \n",
    "Input Format: N = 5, arr[] = {3,5,8,15,19}, x = 9\n",
    "Result: 3\n",
    "Explanation: Index 3 is the smallest index such that arr[3] >= x."
   ]
  },
  {
   "cell_type": "code",
   "execution_count": 1,
   "id": "47ca496c-026a-4539-9db7-decbfaebe689",
   "metadata": {},
   "outputs": [
    {
     "data": {
      "text/plain": [
       "3"
      ]
     },
     "execution_count": 1,
     "metadata": {},
     "output_type": "execute_result"
    }
   ],
   "source": [
    "def lowerbound(arr,target):\n",
    "    left=0\n",
    "    right=len(arr)\n",
    "    while left < right:\n",
    "        mid=(left+right)//2\n",
    "        if arr[mid]<target:\n",
    "            left=mid+1\n",
    "        else:\n",
    "            right=mid\n",
    "    return left\n",
    "arr= [3,5,8,15,19]\n",
    "target=9\n",
    "lowerbound(arr,target)\n",
    "        "
   ]
  },
  {
   "cell_type": "markdown",
   "id": "a229e6b4-8dea-4cab-a3cc-1817834dc978",
   "metadata": {},
   "source": [
    "Problem Statement: Given a sorted array of N integers and an integer x, write a program to find the upper bound of x.\n",
    "\n",
    "\n",
    "\n",
    "\n",
    "\n",
    "\n",
    "    \n",
    "\n",
    "Pre-requisite: Binary Search algorithm\n",
    "\n",
    "Examples\n",
    "\n",
    "Example 1:\n",
    "Input Format: N = 4, arr[] = {1,2,2,3}, x = 2\n",
    "Result: 3\n",
    "Explanation: Index 3 is the smallest index such that arr[3] > x.\n",
    "\n",
    "Example 2:\n",
    "Input Format: N = 6, arr[] = {3,5,8,9,15,19}, x = 9\n",
    "Result: 4\n",
    "Explanation: Index 4 is the smallest index such that arr[4] > x."
   ]
  },
  {
   "cell_type": "code",
   "execution_count": 1,
   "id": "3c44c7fb-94aa-4bf5-9eed-d2ef4b6a0003",
   "metadata": {},
   "outputs": [
    {
     "data": {
      "text/plain": [
       "4"
      ]
     },
     "execution_count": 1,
     "metadata": {},
     "output_type": "execute_result"
    }
   ],
   "source": [
    "def upperbound(arr,target):\n",
    "    left=0\n",
    "    right=len(arr)\n",
    "    while left <right:\n",
    "        mid=(left+right)//2\n",
    "        if arr[mid]<=target:\n",
    "            left=mid+1\n",
    "        else:\n",
    "            right=mid\n",
    "    return left\n",
    "arr= [3,5,8,9,15,19]\n",
    "target=9\n",
    "upperbound(arr,target) "
   ]
  },
  {
   "cell_type": "code",
   "execution_count": null,
   "id": "164dcd8a-2b27-4bc2-8f5f-dab541eb2424",
   "metadata": {},
   "outputs": [],
   "source": []
  },
  {
   "cell_type": "code",
   "execution_count": 7,
   "id": "06aa10c8-929b-4755-a79a-19af988718b5",
   "metadata": {},
   "outputs": [
    {
     "data": {
      "text/plain": [
       "3"
      ]
     },
     "execution_count": 7,
     "metadata": {},
     "output_type": "execute_result"
    }
   ],
   "source": [
    "# 6) Search in a rotated sorted array (no duplicates)\n",
    "def rotate(arr,target):\n",
    "    left=0\n",
    "    right=len(arr)-1\n",
    "    while left <= right:\n",
    "        mid=left+(right-left)//2\n",
    "        if arr[mid] == target:\n",
    "            return mid\n",
    "        if arr[left] <= arr[mid]:  \n",
    "            if arr[left]<=target<arr[mid]:\n",
    "                right=mid-1\n",
    "            else:\n",
    "                left=mid+1\n",
    "        else:\n",
    "            if arr[mid]>target>=arr[right]:\n",
    "                left=mid+1\n",
    "            else:\n",
    "                right=mid-1\n",
    "arr= [3,5,8,9,15,19]\n",
    "target=9\n",
    "rotate(arr,target)"
   ]
  },
  {
   "cell_type": "code",
   "execution_count": 1,
   "id": "83da9774-f10e-4333-a89e-f25f489f83fa",
   "metadata": {},
   "outputs": [
    {
     "data": {
      "text/plain": [
       "4"
      ]
     },
     "execution_count": 1,
     "metadata": {},
     "output_type": "execute_result"
    }
   ],
   "source": [
    "# Find peak in the mountain(index of the maximum)\n",
    "def maximum(arr):\n",
    "    left=0\n",
    "    right=len(arr)-1\n",
    "    while left < right:\n",
    "        mid=left+(right-left)//2\n",
    "        if arr[mid] < arr[mid+1]:\n",
    "            left=mid+1\n",
    "        else:\n",
    "            right = mid\n",
    "    return left\n",
    "arr= [3,5,8,9,15,8,5,1]\n",
    "maximum(arr)"
   ]
  },
  {
   "cell_type": "markdown",
   "id": "7cbfcf04-ddcc-4232-846e-5585c70145b2",
   "metadata": {},
   "source": [
    "n\r\n",
    "Examples:\r\n",
    "Input: nums = [1, 3, 5, 6], target = 5\r\n",
    "\r\n",
    "Output: 2\r\n",
    "\r\n",
    "Explanation: The target value 5 is found at index 2 in the sorted array. Hence, the function returns 2."
   ]
  },
  {
   "cell_type": "code",
   "execution_count": 7,
   "id": "ffb2a9f5-7d8f-4d58-b5b5-55e4573484ec",
   "metadata": {},
   "outputs": [
    {
     "data": {
      "text/plain": [
       "1"
      ]
     },
     "execution_count": 7,
     "metadata": {},
     "output_type": "execute_result"
    }
   ],
   "source": [
    "def insert(arr,target):\n",
    "    left=0\n",
    "    right=len(arr)\n",
    "    while left <right:\n",
    "        mid=left+(right-left)//2\n",
    "        if arr[mid] < target:\n",
    "            left=mid+1\n",
    "        else:\n",
    "            right=mid\n",
    "    return left\n",
    "\n",
    "arr= [1,3,5,6]\n",
    "target=2\n",
    "insert(arr,target)"
   ]
  },
  {
   "cell_type": "markdown",
   "id": "b3fd6539-16b0-420b-b917-747bd3ddeedb",
   "metadata": {},
   "source": [
    "Floor and Ceil in Sorted Array\n",
    "\n",
    "\n",
    "\n",
    "\n",
    "Hints\n",
    "Given a sorted array nums and an integer x. Find the floor and ceil of x in nums. The floor of x is the largest element in the array which is smaller than or equal to x. The ceiling of x is the smallest element in the array greater than or equal to x. If no floor or ceil exists, output -1.\n",
    "\n",
    "\n",
    "Examples:\n",
    "Input : nums =[3, 4, 4, 7, 8, 10], x= 5\n",
    "\n",
    "Output: 4 7\n",
    "\n",
    "Explanation: The floor of 5 in the array is 4, and the ceiling of 5 in the array is 7."
   ]
  },
  {
   "cell_type": "code",
   "execution_count": 1,
   "id": "5c3b3c49-2567-47e8-a58c-6c8bc7cb842e",
   "metadata": {},
   "outputs": [
    {
     "name": "stdout",
     "output_type": "stream",
     "text": [
      "(3, 5)\n"
     ]
    }
   ],
   "source": [
    "def floor(arr, target):\n",
    "    left, right = 0, len(arr) - 1\n",
    "    ans = -1  # store potential floor\n",
    "    while left <= right:\n",
    "        mid = left + (right - left) // 2\n",
    "        if arr[mid] <= target:\n",
    "            ans = arr[mid]   \n",
    "            left = mid + 1   \n",
    "        else:\n",
    "            right = mid-1\n",
    "    return ans\n",
    "\n",
    "def ceil(arr, target):\n",
    "    left, right = 0, len(arr) - 1\n",
    "    ans = -1  \n",
    "    while left <= right:\n",
    "        mid = left + (right - left) // 2\n",
    "        if arr[mid] >= target:\n",
    "            ans = arr[mid]   \n",
    "            right = mid-1\n",
    "        else:\n",
    "            left = mid + 1\n",
    "    return ans\n",
    "\n",
    "def floor_ceil(arr, target):\n",
    "    return floor(arr, target), ceil(arr, target)\n",
    "\n",
    "arr = [1, 3, 5, 7, 9, 11]\n",
    "target = 4\n",
    "print(floor_ceil(arr, target))\n"
   ]
  },
  {
   "cell_type": "markdown",
   "id": "c44c12c9-4d12-4298-a426-5c82a61c035e",
   "metadata": {},
   "source": [
    "# Find the first occurance and the last occurance of an element "
   ]
  },
  {
   "cell_type": "code",
   "execution_count": 36,
   "id": "983772b5-4b2b-4737-a365-adbfe76ced58",
   "metadata": {},
   "outputs": [
    {
     "data": {
      "text/plain": [
       "(2, 3)"
      ]
     },
     "execution_count": 36,
     "metadata": {},
     "output_type": "execute_result"
    }
   ],
   "source": [
    "def first_occurance(arr,target):\n",
    "    left, right = 0, len(arr) - 1\n",
    "    ans = -1\n",
    "    while left <= right:\n",
    "        mid = left + (right - left) // 2\n",
    "        if arr[mid] == target:\n",
    "            ans = mid\n",
    "            right = mid - 1  # move left for earlier occurrence\n",
    "        elif arr[mid] < target:\n",
    "            left = mid + 1\n",
    "        else:\n",
    "            right = mid - 1\n",
    "    return ans\n",
    "def last_occurance(arr,target):\n",
    "    left, right = 0, len(arr) - 1\n",
    "    ans = -1\n",
    "    while left <= right:\n",
    "        mid = left + (right - left) // 2\n",
    "        if arr[mid] == target:\n",
    "            ans = mid\n",
    "            left = mid + 1  # move right for later occurrence\n",
    "        elif arr[mid] < target:\n",
    "            left = mid + 1\n",
    "        else:\n",
    "            right = mid - 1\n",
    "    return ans\n",
    "    \n",
    "def first_last_occurance(arr,target):\n",
    "     return first_occurance(arr, target), last_occurance(arr, target)\n",
    "    \n",
    "arr = [1, 2, 3, 3, 5, 6, 7]\n",
    "target = 3\n",
    "first_last_occurance(arr, target)\n",
    "            "
   ]
  },
  {
   "cell_type": "code",
   "execution_count": 1,
   "id": "3e2505c3-134b-4e1e-a091-802e4e4dbf4b",
   "metadata": {},
   "outputs": [
    {
     "data": {
      "text/plain": [
       "4"
      ]
     },
     "execution_count": 1,
     "metadata": {},
     "output_type": "execute_result"
    }
   ],
   "source": [
    "def first_occurance(arr,target):\n",
    "    left, right = 0, len(arr) - 1\n",
    "    count=0\n",
    "    while left <= right:\n",
    "        mid = left + (right - left) // 2\n",
    "        if arr[mid] == target:\n",
    "            count+=1\n",
    "            right = mid - 1  # move left for earlier occurrence\n",
    "        elif arr[mid] < target:\n",
    "            left = mid + 1\n",
    "        else:\n",
    "            right = mid - 1\n",
    "    return count\n",
    "def last_occurance(arr,target):\n",
    "    left, right = 0, len(arr) - 1\n",
    "    count=0\n",
    "    while left <= right:\n",
    "        mid = left + (right - left) // 2\n",
    "        if arr[mid] == target:\n",
    "            count+=1\n",
    "            left = mid + 1  # move right for later occurrence\n",
    "        elif arr[mid] < target:\n",
    "            left = mid + 1\n",
    "        else:\n",
    "            right = mid - 1\n",
    "    return count\n",
    "    \n",
    "def first_last_occurance(arr,target):\n",
    "     return first_occurance(arr, target)+ last_occurance(arr, target)\n",
    "    \n",
    "arr = [1, 2, 3, 3,3, 5, 6, 7]\n",
    "target = 3\n",
    "first_last_occurance(arr, target)\n"
   ]
  },
  {
   "cell_type": "markdown",
   "id": "f8968d6a-df6e-4017-bda1-465cae7ea427",
   "metadata": {},
   "source": [
    "Search Element in a Rotated Sorted Array\r\n",
    "\r\n",
    "Mark as Completed\r\n",
    "\r\n",
    "359\r\n",
    "\r\n",
    "\r\n",
    "Problem Statement: Given an integer array arr of size N, sorted in ascending order (with distinct values) and a target value k. Now the array is rotated at some pivot point unknown to you. Find the index at which k is present and if k is not present return -1.\r\n",
    "\r\n",
    "Examples\r\n",
    "\r\n",
    "Example 1:\r\n",
    "Input Format: arr = [4,5,6,7,0,1,2,3], k = 0\r\n",
    "Result: 4\r\n",
    "Explanation: Here, the target is 0. We can see that 0 is present in the given rotated sorted array, nums. Thus, we get output as 4, which is the index at which 0 is present in the array.\r\n",
    "\r\n",
    "Example 2:\r\n",
    "Input Format: arr = [4,5,6,7,0,1,2], k = 3\r\n",
    "Result: -1\r\n",
    "Explanation: Here, the target is 3. Since 3 is not present in the given rotated sorted array. Thus, we get the output as -1."
   ]
  },
  {
   "cell_type": "code",
   "execution_count": 13,
   "id": "f838d57f-545b-4746-a413-69aa78be3c58",
   "metadata": {},
   "outputs": [
    {
     "name": "stdout",
     "output_type": "stream",
     "text": [
      "4\n",
      "-1\n"
     ]
    }
   ],
   "source": [
    "def rotate_array(arr,target):\n",
    "    left=0\n",
    "    right=len(arr)-1\n",
    "    while left <= right:\n",
    "        mid=left+(right-left)//2\n",
    "        if arr[mid] == target:\n",
    "            return mid\n",
    "        if arr[left]<=arr[mid]:\n",
    "            if arr[left]<=target<arr[mid]:\n",
    "                right=mid-1\n",
    "            else:\n",
    "                left=mid+1\n",
    "        else:\n",
    "            if arr[mid]>target>=arr[mid]:\n",
    "                left=mid+1\n",
    "            else:\n",
    "                righ=mid-1\n",
    "    return -1\n",
    "\n",
    "arr = [4,5,6,7,0,1,2,3]\n",
    "target=0\n",
    "print(rotate_array(arr,target))\n",
    "arr=[4,5,6,7,0,1,2]\n",
    "target=3\n",
    "print(rotate_array(arr,target))"
   ]
  },
  {
   "cell_type": "code",
   "execution_count": 11,
   "id": "0eb69b12-faea-4e3c-b3c1-303682eeb834",
   "metadata": {},
   "outputs": [
    {
     "name": "stdout",
     "output_type": "stream",
     "text": [
      "False\n"
     ]
    }
   ],
   "source": [
    "# If the array contain the duplicate values  \n",
    "def rotate_array(arr,target):\n",
    "    left=0\n",
    "    right=len(arr)-1\n",
    "    while left <= right:\n",
    "        mid=left+(right-left)//2\n",
    "        if arr[mid] == target:\n",
    "            return True\n",
    "        if arr[left]==arr[mid]==arr[right]:\n",
    "            left+=1\n",
    "            right-=1\n",
    "            continue\n",
    "        elif arr[left]<=arr[mid]:\n",
    "            if arr[left]<=target<arr[mid]:\n",
    "                right=mid-1\n",
    "            else:\n",
    "                left=mid+1\n",
    "        else:\n",
    "            if arr[mid]<target<=arr[right]:\n",
    "                left=mid+1\n",
    "            else:\n",
    "                righ=mid-1\n",
    "    return False\n",
    "\n",
    "arr = [1,1,1,2]\n",
    "target=3\n",
    "print(rotate_array(arr,target))"
   ]
  },
  {
   "cell_type": "markdown",
   "id": "38aa1c7e-a0fe-444e-9ad2-d2d8151e2d67",
   "metadata": {},
   "source": [
    "Find minimum in Rotated Sorted Array\r\n",
    "\r",
    "\r\n",
    "Easy\r\n",
    "\r\n",
    "Given an integer array nums of size N, sorted in ascending order with distinct values, and then rotated an unknown number of times (between 1 and N), find the minimum element in the array.\r\n",
    "\r\n",
    "\r\n",
    "Examples:\r\n",
    "Input : nums = [4, 5, 6, 7, 0, 1, 2, 3]\r\n",
    "\r\n",
    "Output: 0\r\n",
    "\r\n",
    "Explanation: Here, the element 0 is the minimum element in the array."
   ]
  },
  {
   "cell_type": "code",
   "execution_count": 11,
   "id": "e65bf444-85a8-4c27-b08d-3f57e024326e",
   "metadata": {},
   "outputs": [
    {
     "data": {
      "text/plain": [
       "0"
      ]
     },
     "execution_count": 11,
     "metadata": {},
     "output_type": "execute_result"
    }
   ],
   "source": [
    "def minimum(arr):\n",
    "    left, right = 0, len(arr) - 1\n",
    "    while left < right:\n",
    "        mid = left + (right - left) // 2\n",
    "\n",
    "        if arr[mid] > arr[right]:\n",
    "           \n",
    "            left = mid + 1\n",
    "        else:\n",
    "            right = mid\n",
    "    return arr[left]\n",
    "nums = [4, 5, 6, 7, 0, 1, 2, 3]\n",
    "minimum(nums)"
   ]
  },
  {
   "cell_type": "code",
   "execution_count": 43,
   "id": "9bfcddb0-72f4-449a-83fd-3c31178380d2",
   "metadata": {},
   "outputs": [
    {
     "data": {
      "text/plain": [
       "7"
      ]
     },
     "execution_count": 43,
     "metadata": {},
     "output_type": "execute_result"
    }
   ],
   "source": [
    "# Finding the Maximum Number in the rotated sorted array\n",
    "def maximum(arr):\n",
    "    left=0\n",
    "    right=len(arr)-1\n",
    "    while left < right:\n",
    "        mid=left+(right-left)//2\n",
    "        if arr[mid]<arr[right]:\n",
    "            left=mid+1\n",
    "        else:\n",
    "            right=mid\n",
    "    return arr[left]\n",
    "nums = [4, 5, 6, 7, 0, 1, 2, 3]\n",
    "maximum(nums)  "
   ]
  },
  {
   "cell_type": "markdown",
   "id": "4c06aa16-b9b7-40c1-bd88-b15d2f1537e7",
   "metadata": {},
   "source": [
    "Find out how many times the array has been rotated\r\n",
    "150\r\n",
    "\r\n",
    "\r\n",
    "Problem Statement: Given an integer array arr of size N, sorted in ascending order (with distinct values). Now the array is rotated between 1 to N times which is unknown. Find how many times the array has been rotated. \r\n",
    "\r\n",
    "Pre-requisites: Find minimum in Rotated Sorted Array,  Search in Rotated Sorted Array II & Binary Search algorithm\r\n",
    "\r\n",
    "Examples\r\n",
    "\r\n",
    "Example 1:\r\n",
    "Input Format: arr = [4,5,6,7,0,1,2,3]\r\n",
    "Result: 4\r\n",
    "Explanation: The original array should be [0,1,2,3,4,5,6,7]. So, we can notice that the array has been rotated 4 times.\r\n",
    "\r\n",
    "Example 2:\r\n",
    "Input Format: arr = [3,4,5,1,2]\r\n",
    "Result: 3\r\n",
    "Explanation: The original array should be [1,2,3,4,5]. So, we can notice that the array has been rotated 3 times."
   ]
  },
  {
   "cell_type": "code",
   "execution_count": 3,
   "id": "e7606572-0629-475f-8d07-60659d526063",
   "metadata": {},
   "outputs": [
    {
     "data": {
      "text/plain": [
       "4"
      ]
     },
     "execution_count": 3,
     "metadata": {},
     "output_type": "execute_result"
    }
   ],
   "source": [
    "def rotation_count(arr):\n",
    "    left=0\n",
    "    right=len(arr)-1\n",
    "    while left < right:\n",
    "        mid=left+(right-left)//2\n",
    "        if arr[mid]>arr[right]:\n",
    "            left=mid+1\n",
    "        else:\n",
    "            right=mid\n",
    "    return left\n",
    "arr = [4, 5, 6, 7, 0, 1, 2, 3]\n",
    "rotation_count(arr)"
   ]
  },
  {
   "cell_type": "markdown",
   "id": "30ec7a9e-cd89-41ef-a801-84f1f0d5e061",
   "metadata": {},
   "source": [
    "Single element in sorted array\n",
    "\n",
    "\n",
    "\n",
    "Given an array nums sorted in non-decreasing order. Every number in the array except one appears twice. Find the single number in the array.\n",
    "\n",
    "\n",
    "Examples:\n",
    "Input :nums = [1, 1, 2, 2, 3, 3, 4, 5, 5, 6, 6]\n",
    "\n",
    "Output:4\n",
    "\n",
    "Explanation: Only the number 4 appears once in the array.\n",
    "\n",
    "Input : nums = [1, 1, 3, 5, 5]\n",
    "\n",
    "Output:3\n",
    "\n",
    "Explanation: Only the number 3 appears once in the array."
   ]
  },
  {
   "cell_type": "code",
   "execution_count": 22,
   "id": "6f5e49a4-7e86-4f9e-96c2-b437073a9766",
   "metadata": {},
   "outputs": [
    {
     "data": {
      "text/plain": [
       "4"
      ]
     },
     "execution_count": 22,
     "metadata": {},
     "output_type": "execute_result"
    }
   ],
   "source": [
    "def single_count(arr):\n",
    "    left, right = 0, len(arr)-1\n",
    "    \n",
    "    while left <= right:\n",
    "        mid = (left+right)//2\n",
    "        \n",
    "        if arr[mid] != arr[mid-1] and arr[mid] != arr[mid+1]:  \n",
    "            return arr[mid]        \n",
    "        if (mid%2 == 0 and arr[mid]==arr[mid+1]) or (mid%2 == 1 and arr[mid]==arr[mid-1]):\n",
    "            left = mid+1\n",
    "        else:\n",
    "            right = mid-1            \n",
    "    return arr[left]\n",
    "nums = [1, 1, 2, 2, 3, 3, 4, 5, 5, 6, 6]\n",
    "single_count(nums)"
   ]
  },
  {
   "cell_type": "markdown",
   "id": "7a404606-45da-4dd7-913a-7b8b06c728a7",
   "metadata": {},
   "source": [
    "Finding Sqrt of a number using Binary Search\r\n",
    "26\r\n",
    "\r\n",
    "\r\n",
    "Problem Statement: You are given a positive integer n. Your task is to find and return its square root. If ‘n’ is not a perfect square, then return the floor value of 'sqrt(n)'.\r\n",
    "\r\n",
    "Note: The question explicitly states that if the given number, n, is not a perfect square, our objective is to find the maximum number, x, such that x squared is less than or equal to n (x*x <= n). In other words, we need to determine the floor value of the square root of n.\r\n",
    "\r\n",
    "Examples\r\n",
    "\r\n",
    "Example 1:\r\n",
    "Input Format: n = 36\r\n",
    "Result: 6\r\n",
    "Explanation: 6 is the square root of 36.\r\n",
    "\r\n",
    "Example 2:\r\n",
    "Input Format: n = 28\r\n",
    "Result: 5\r\n",
    "Explanation: Square root of 28 is approximately 5.292. So, the floor value will be 5."
   ]
  },
  {
   "cell_type": "code",
   "execution_count": 3,
   "id": "619a61cd-afd8-4192-9878-8af7da6ea6fc",
   "metadata": {},
   "outputs": [
    {
     "data": {
      "text/plain": [
       "5"
      ]
     },
     "execution_count": 3,
     "metadata": {},
     "output_type": "execute_result"
    }
   ],
   "source": [
    "def squareroot(n):\n",
    "    left=0\n",
    "    right=n\n",
    "    while left <= right:\n",
    "        mid=left+(right-left)//2\n",
    "        if mid*mid <= n:\n",
    "            left=mid+1\n",
    "        else:\n",
    "            right=mid-1\n",
    "    return right\n",
    "squareroot(30)"
   ]
  },
  {
   "cell_type": "markdown",
   "id": "3e3f86d5-050c-454e-8718-4a05ef1835de",
   "metadata": {},
   "source": [
    "Problem Statement: Given two numbers N and M, find the Nth root of M. The nth root of a number M is defined as a number X when raised to the power N equals M. If the 'nth root is not an integer, return -1.\r\n",
    "\r\n",
    "Examples\r\n",
    "\r\n",
    "Example 1:\r\n",
    "Input Format: N = 3, M = 27\r\n",
    "Result: 3\r\n",
    "Explanation: The cube root of 27 is equal to 3.\r\n",
    "\r\n",
    "Example 2:\r\n",
    "Input Format: N = 4, M = 69\r\n",
    "Result: -1\r\n",
    "Explanation: The 4th root of 69 does not exist. So, the answer is -1."
   ]
  },
  {
   "cell_type": "code",
   "execution_count": 15,
   "id": "cc1ace60-5017-4d6d-9660-e5e631f612cf",
   "metadata": {},
   "outputs": [
    {
     "data": {
      "text/plain": [
       "3"
      ]
     },
     "execution_count": 15,
     "metadata": {},
     "output_type": "execute_result"
    }
   ],
   "source": [
    "# Brute Force Approach\n",
    "def nth_root(n,target):\n",
    "    for i in range(target+1):\n",
    "        ans=i**n\n",
    "        if ans == target:\n",
    "            return i\n",
    "        elif ans > target:\n",
    "            break\n",
    "    return -1\n",
    "nth_root(3,27)"
   ]
  },
  {
   "cell_type": "code",
   "execution_count": 19,
   "id": "25c8e943-e758-4105-9b84-20a39641f46f",
   "metadata": {},
   "outputs": [
    {
     "name": "stdout",
     "output_type": "stream",
     "text": [
      "3\n",
      "-1\n"
     ]
    }
   ],
   "source": [
    "# Binary Search\n",
    "def nthroot(N,M):\n",
    "    left=1\n",
    "    right=M\n",
    "    while left <= right:\n",
    "        mid=left+(right-left)//2\n",
    "        ans=mid**N\n",
    "        if ans==M:\n",
    "            return mid\n",
    "        elif ans < M:\n",
    "            left = mid+1\n",
    "        else:\n",
    "            right=mid-1\n",
    "    return -1\n",
    "print(nthroot(3,27))\n",
    "print(nthroot(4,69))"
   ]
  },
  {
   "cell_type": "markdown",
   "id": "f7502180-129a-4a31-acbe-41f685ac73a1",
   "metadata": {},
   "source": [
    "Problem Statement: A monkey is given ‘n’ piles of bananas, whereas the ith  pile has ‘a[i]’ bananas. An integer ‘h’ is also given, which denotes the time (in hours) for all the bananas to be eaten.\n",
    "\n",
    "Each hour, the monkey chooses a non-empty pile of bananas and eats ‘k’ bananas. If the pile contains less than ‘k’ bananas, then the monkey consumes all the bananas and won’t eat any more bananas in that hour.\n",
    "\n",
    "Find the minimum number of bananas ‘k’ to eat per hour so that the monkey can eat all the bananas within ‘h’ hours.\n",
    "\n",
    "Examples\n",
    "\n",
    "Example 1:\n",
    "Input Format: N = 4, a[] = {7, 15, 6, 3}, h = 8\n",
    "Result: 5\n",
    "Explanation: If Koko eats 5 bananas/hr, he will take 2, 3, 2, and 1 hour to eat the piles accordingly. So, he will take 8 hours to complete all the piles.  \n",
    "\n",
    "Example 2:\n",
    "Input Format: N = 5, a[] = {25, 12, 8, 14, 19}, h = 5\n",
    "Result: 25\n",
    "Explanation: If Koko eats 25 bananas/hr, he will take 1, 1, 1, 1, and 1 hour to eat the piles accordingly. So, he will take 5 hours to complete all the piles\n",
    "\n",
    "Before moving on to the solution, let’s understand how Koko will eat the bananas. Assume, the given array is {3, 6, 7, 11} and the given time i.e. h is 8. \r\n",
    "\r\n",
    "\r\n",
    "First of all, Koko cannot eat bananas from different piles. He should complete the pile he has chosen and then he can go for another pile.\r\n",
    "Now, Koko decides to eat 2 bananas/hour. So, in order to complete the first he will take\r\n",
    "3 / 2 = 2 hours. Though mathematically, he should take 1.5 hrs but it is clearly stated in the question that after completing a pile Koko will not consume more bananas in that hour. So, for the first pile, Koko will eat 2 bananas in the first hour and then he will consume 1 banana in another hour. \r\n",
    "\r\n",
    "From here we can conclude that we have to take ceil of (3/2). Similarly, we will calculate the times for other piles.\r\n",
    "\r\n",
    "\r\n",
    "1st pile: ceil(3/2) = 2 hrs\r\n",
    "2nd pile: ceil(6/2) = 3 hrs\r\n",
    "3rd pile: ceil(7/2) = 4 hrs\r\n",
    "4th pile: ceil(11/2) = 6 hrs\r\n",
    "\r\n",
    "Koko will take 15 hrs in total to consume all the bananas from all the piles. \r\n",
    "\r\n",
    "\r\n",
    "Observation: Upon observation, it becomes evident that the maximum number of bananas (represented by 'k') that Koko can consume in an hour is obtained from the pile that contains the largest quantity of bananas. Therefore, the maximum value of 'k' corresponds to the maximum element present in the given array.\r\n",
    "\r\n",
    "\r\n",
    "So, our answer i.e. the minimum value of ‘k’ lies between 1 and the maximum element in the array i.e. max(a[]).\r\n",
    "\r\n",
    "\r\n",
    "Now, let’s move on to the solution"
   ]
  },
  {
   "cell_type": "code",
   "execution_count": 79,
   "id": "e98b494c-9d23-4a34-b698-8766dfabb5de",
   "metadata": {},
   "outputs": [
    {
     "data": {
      "text/plain": [
       "5"
      ]
     },
     "execution_count": 79,
     "metadata": {},
     "output_type": "execute_result"
    }
   ],
   "source": [
    "# bruteforce Approach\n",
    "import math\n",
    "def kokobanana(arr,k):\n",
    "    total_hours=0\n",
    "    for i  in arr:\n",
    "        total_hours+=math.ceil(i/k)\n",
    "    return total_hours\n",
    "def timetake(arr,hours):\n",
    "    for i in range(1,max(arr)+1):\n",
    "        reqiretime=kokobanana(arr,i)\n",
    "        if reqiretime <= hours:\n",
    "            return i\n",
    "    return -1\n",
    "timetake([7,15,6,3],8)"
   ]
  },
  {
   "cell_type": "code",
   "execution_count": 100,
   "id": "cb2aea0b-ebb7-47da-9e84-8e453ccfb8e2",
   "metadata": {},
   "outputs": [
    {
     "data": {
      "text/plain": [
       "15"
      ]
     },
     "execution_count": 100,
     "metadata": {},
     "output_type": "execute_result"
    }
   ],
   "source": [
    "def kokobanana(arr,hours):\n",
    "    left=1\n",
    "    right=max(arr)\n",
    "    ans=right\n",
    "    while left <= right:\n",
    "        mid=(left+right)//2\n",
    "        totalnum=0\n",
    "        for i in arr:\n",
    "            totalnum+=math.ceil(i/mid)\n",
    "        if totalnum <= hours:\n",
    "            ans=mid\n",
    "            right=mid-1\n",
    "        else:\n",
    "            left=mi\n",
    "    return ans\n",
    "kokobanana([7,15,6,3],8)"
   ]
  },
  {
   "cell_type": "markdown",
   "id": "46965c3a-6bf2-4b39-82d3-f53c889abbe5",
   "metadata": {},
   "source": [
    "Problem Statement: You are given an array of integers 'arr' and an integer i.e. a threshold value 'limit'. Your task is to find the smallest positive integer divisor, such that upon dividing all the elements of the given array by it, the sum of the division's result is less than or equal to the given threshold value.\r\n",
    "\r\n",
    "Examples\r\n",
    "\r\n",
    "Example 1:\r\n",
    "Input Format: N = 5, arr[] = {1,2,3,4,5}, limit = 8\r\n",
    "Result: 3\r\n",
    "Explanation: We can get a sum of 15(1 + 2 + 3 + 4 + 5) if we choose 1 as a divisor. \r\n",
    "The sum is 9(1 + 1 + 2 + 2 + 3)  if we choose 2 as a divisor. Upon dividing all the elements of the array by 3, we get 1,1,1,2,2 respectively. Now, their sum is equal to 7 <= 8 i.e. the threshold value. So, 3 is the minimum possible answer.\r\n",
    "\r\n",
    "Example 2:\r\n",
    "Input Format: N = 4, arr[] = {8,4,2,3}, limit = 10\r\n",
    "Result: 2\r\n",
    "Explanation: If we choose 1, we get 17 as the sum. If we choose 2, we get 9(4+2+1+2) <= 10 as the answer. So, 2 is the answer."
   ]
  },
  {
   "cell_type": "code",
   "execution_count": 90,
   "id": "0f8e3675-2300-4a40-a0b3-10dfa7958ed7",
   "metadata": {},
   "outputs": [
    {
     "data": {
      "text/plain": [
       "3"
      ]
     },
     "execution_count": 90,
     "metadata": {},
     "output_type": "execute_result"
    }
   ],
   "source": [
    "# Brute Force approach\n",
    "def smallest_divisor(arr, limit):\n",
    "    if not arr:\n",
    "        return -1\n",
    "\n",
    "    max_val = max(arr)\n",
    "\n",
    "    for d in range(1, max_val + 1):            \n",
    "        total = 0\n",
    "        for num in arr:\n",
    "            total += (num + d - 1) // d       \n",
    "            if total > limit:                \n",
    "                break\n",
    "        if total <= limit:\n",
    "            return d\n",
    "\n",
    "    return -1   \n",
    "smallest_divisor([1,2,3,4,5],8)"
   ]
  },
  {
   "cell_type": "code",
   "execution_count": 94,
   "id": "78058b94-830d-41bc-b743-0f25ab7604ed",
   "metadata": {},
   "outputs": [
    {
     "name": "stdout",
     "output_type": "stream",
     "text": [
      "3\n"
     ]
    }
   ],
   "source": [
    "# Optimal approach\n",
    "import math\n",
    "def divisor(arr,limit):\n",
    "    left=0\n",
    "    right=max(arr)\n",
    "    ans=right\n",
    "    while left < right:\n",
    "        mid=left+right//2\n",
    "        total=0\n",
    "        for i in arr:\n",
    "            total+=math.ceil(i/mid)\n",
    "        if total_sum <=limit:\n",
    "            right=mid-1\n",
    "        else:\n",
    "            left=mid+1\n",
    "    return ans\n",
    "arr = [1, 2, 3, 4, 5]\n",
    "limit = 8\n",
    "print(smallest_divisor(arr, limit))"
   ]
  }
 ],
 "metadata": {
  "kernelspec": {
   "display_name": "Python 3 (ipykernel)",
   "language": "python",
   "name": "python3"
  },
  "language_info": {
   "codemirror_mode": {
    "name": "ipython",
    "version": 3
   },
   "file_extension": ".py",
   "mimetype": "text/x-python",
   "name": "python",
   "nbconvert_exporter": "python",
   "pygments_lexer": "ipython3",
   "version": "3.12.4"
  }
 },
 "nbformat": 4,
 "nbformat_minor": 5
}
